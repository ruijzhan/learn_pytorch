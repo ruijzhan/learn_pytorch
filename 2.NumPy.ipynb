{
 "cells": [
  {
   "attachments": {},
   "cell_type": "markdown",
   "metadata": {},
   "source": [
    "# 2 NumPy 与 PyTorch\n",
    "\n",
    "NumPy 是 Python 的科学计算包,它有以下功能:\n",
    "\n",
    "- 是一个包含多维数组对象的库,以及用于对这些数组进行数学运算的函数。\n",
    "- 数组对象在不同的维度上具有相同的数据类型。这使得 NumPy 非常适合用于线性代数,随机数生成等数值运算。\n",
    "- NumPy 运行速度快,因为它的底层由C语言编写。\n",
    "\n",
    "NumPy 提供了底层的数字数组结构和运算,是科学计算的基础包。而 PyTorch 在 NumPy 的基础上构建,并且扩展到深度学习领域,提供更多高级工具和功能:\n",
    "\n",
    "- PyTorch 的 tensor (张量) 对象类似于 NumPy 的 ndarray 对象,都代表多维数组。\n",
    "- PyTorch 的 tensor 支持 GPU 加速,NumPy 的 ndarray 只支持 CPU 计算。\n",
    "- PyTorch 有更多用于机器学习的工具,如神经网络,优化器等。NumPy 更加通用,用于科学计算。\n",
    "- PyTorch 的某些函数接口类似 NumPy,以便简化学习曲线,比如索引,切片,矩阵运算等。\n",
    "- 在 PyTorch 中,tensor 可以是动态的,其形状可以改变,而 ndarray 的形状在创建后不可改变。\n",
    "- PyTorch 构建在 NumPy 之上,其 tensors 利用 NumPy 进行 CPU 上的数值运算。\n",
    "\n",
    "可以使用如下命令单独安装 NumPy：\n",
    "\n",
    "```shell\n",
    "pip install numpy\n",
    "```"
   ]
  },
  {
   "attachments": {},
   "cell_type": "markdown",
   "metadata": {},
   "source": [
    "## 1 NumPy 数组与 Python 列表\n",
    "\n",
    "在 NumPy 中，数组是由 numpy.ndarray 实现的。与 Python 内置的列表相比，NumPy 数组有以下几个特点：\n",
    "\n",
    "- 列表的长度可以动态的改变，而 NumPy 数组在创建时大小就固定了。改变数组的长度需要创建一个新数组并删除原数组\n",
    "- NumPy 数组中元素的类型必须是统一的\n",
    "\n",
    "## 2 创建数组\n",
    "\n",
    "可以将一个**任意维度的列表**传入到 np.array() 或者 np.asarray() 中。后者为浅拷贝。"
   ]
  },
  {
   "cell_type": "code",
   "execution_count": 3,
   "metadata": {},
   "outputs": [
    {
     "name": "stdout",
     "output_type": "stream",
     "text": [
      "[1 2 3 4 5 6]\n",
      "[[1 2 3]\n",
      " [4 5 6]]\n"
     ]
    }
   ],
   "source": [
    "import numpy as np\n",
    "\n",
    "# 创建一个一维数组\n",
    "arr_1d = np.array([1, 2, 3, 4, 5,6])\n",
    "print(arr_1d)\n",
    "\n",
    "arr_2d = np.array([[1,2,3],[4,5,6]])\n",
    "print(arr_2d)"
   ]
  },
  {
   "attachments": {},
   "cell_type": "markdown",
   "metadata": {},
   "source": [
    "## 3 数组的属性\n",
    "\n",
    "NumPy 的数组有一些常用的固有属性：\n",
    "\n",
    "- 维度：ndim\n",
    "- 形状：shape\n",
    "- 大小：size\n",
    "- 元素类型：dtype\n",
    "\n",
    "### 3.1 数组的维度 ndim\n",
    "\n",
    "ndim 表示数组的维度或“轴(axis)”的个数。一维数组的轴的个数为1，二维数组轴的个数为2"
   ]
  },
  {
   "cell_type": "code",
   "execution_count": 11,
   "metadata": {},
   "outputs": [
    {
     "name": "stdout",
     "output_type": "stream",
     "text": [
      "1\n",
      "2\n"
     ]
    }
   ],
   "source": [
    "arr_1d = np.array([1,2,3])\n",
    "print(arr_1d.ndim)\n",
    "\n",
    "arr_2d = np.array([[1,2,3], [4,5,6]])\n",
    "print(arr_2d.ndim)"
   ]
  },
  {
   "attachments": {},
   "cell_type": "markdown",
   "metadata": {},
   "source": [
    "### 3.2 数组的形状 shape\n",
    "\n",
    "shape 表示数组的维度或形状， 是一个整数的元组，元组的长度等于 ndim。"
   ]
  },
  {
   "cell_type": "code",
   "execution_count": 15,
   "metadata": {},
   "outputs": [
    {
     "name": "stdout",
     "output_type": "stream",
     "text": [
      "(6,)\n",
      "(2, 3)\n"
     ]
    }
   ],
   "source": [
    "arr_1d = np.array([1,2,3,4,5,6])\n",
    "print(arr_1d.shape)\n",
    "\n",
    "arr_2d = np.array([[1,2,3],[4,5,6]])\n",
    "print(arr_2d.shape)"
   ]
  },
  {
   "attachments": {},
   "cell_type": "markdown",
   "metadata": {},
   "source": [
    "在实际的工作当中，通常也需要对数组的形状进行变换。可以使用 arr.reshapde() 函数在不改变数组元素内容的情况下变换数组的形状，需要注意变换前后数组的元素个数需要保持一致。在默认的情况下，以**行优先**的顺序读取数组中的元素。"
   ]
  },
  {
   "cell_type": "code",
   "execution_count": 22,
   "metadata": {},
   "outputs": [
    {
     "name": "stdout",
     "output_type": "stream",
     "text": [
      "[[1]\n",
      " [2]\n",
      " [3]\n",
      " [4]\n",
      " [5]\n",
      " [6]]\n",
      "[[1 2]\n",
      " [3 4]\n",
      " [5 6]]\n"
     ]
    }
   ],
   "source": [
    "arr_2d = np.array([[1,2,3],[4,5,6]])\n",
    "# 此时 arr_2d.shape 为 (2,3)\n",
    "\n",
    "# 将 arr_2d reshape 成一个 (6,1) 的新数组\n",
    "print(arr_2d.reshape((6,1)))\n",
    "\n",
    "print(arr_2d.reshape((3,2)))"
   ]
  },
  {
   "attachments": {},
   "cell_type": "markdown",
   "metadata": {},
   "source": [
    "### 3.3 数组的大小 size\n",
    "\n",
    "size 是数组元素的总数，等于 shape 属性中元素的乘积"
   ]
  },
  {
   "cell_type": "code",
   "execution_count": 23,
   "metadata": {},
   "outputs": [
    {
     "data": {
      "text/plain": [
       "12"
      ]
     },
     "execution_count": 23,
     "metadata": {},
     "output_type": "execute_result"
    }
   ],
   "source": [
    "arr_3d = np.array([[[1,2,3],[4,5,6]],[[7,8,9],[10,11,12]]])\n",
    "\n",
    "arr_3d.size"
   ]
  },
  {
   "attachments": {},
   "cell_type": "markdown",
   "metadata": {},
   "source": [
    "### 3.4 元素类型 dtype\n",
    "\n",
    "使用 dtype 属性可以查看数组所属的数据类型。NumPy 中常见的元素类型有：int8、int16、int32、float32、float64等。\n",
    "\n",
    "创建数组的时候如果没有指定类型，NumPy 会自行判断默认类型："
   ]
  },
  {
   "cell_type": "code",
   "execution_count": 24,
   "metadata": {},
   "outputs": [
    {
     "data": {
      "text/plain": [
       "dtype('int64')"
      ]
     },
     "execution_count": 24,
     "metadata": {},
     "output_type": "execute_result"
    }
   ],
   "source": [
    "arr_2d = np.array([[1,2,3],[4,5,6]])\n",
    "arr_2d.dtype"
   ]
  },
  {
   "attachments": {},
   "cell_type": "markdown",
   "metadata": {},
   "source": [
    "可以在创建数组的时候指定数据类型："
   ]
  },
  {
   "cell_type": "code",
   "execution_count": 26,
   "metadata": {},
   "outputs": [
    {
     "data": {
      "text/plain": [
       "dtype('float64')"
      ]
     },
     "execution_count": 26,
     "metadata": {},
     "output_type": "execute_result"
    }
   ],
   "source": [
    "arr_2d = np.array([[1,2,3],[4,5,6]], dtype='float')\n",
    "arr_2d.dtype"
   ]
  },
  {
   "attachments": {},
   "cell_type": "markdown",
   "metadata": {},
   "source": [
    "可以使用 astype() 改变数组的数据类型，创建一个新的数组："
   ]
  },
  {
   "cell_type": "code",
   "execution_count": 29,
   "metadata": {},
   "outputs": [
    {
     "name": "stdout",
     "output_type": "stream",
     "text": [
      "int64\n",
      "int32\n",
      "int64\n"
     ]
    }
   ],
   "source": [
    "arr_1d = np.array([1,2,3,4,5,6])\n",
    "print(arr_1d.dtype)\n",
    "\n",
    "arr_1d_2 = arr_1d.astype('int32')\n",
    "print(arr_1d_2.dtype)\n",
    "\n",
    "# 原数组类型并未改变\n",
    "print(arr_1d.dtype)"
   ]
  },
  {
   "attachments": {},
   "cell_type": "markdown",
   "metadata": {},
   "source": [
    "**不能通过直接修改数据类型来修改数组的数据类型!**"
   ]
  },
  {
   "cell_type": "code",
   "execution_count": 32,
   "metadata": {},
   "outputs": [
    {
     "name": "stdout",
     "output_type": "stream",
     "text": [
      "[1. 2. 3. 4. 5. 6.]\n",
      "[         0 1072693248          0 1073741824          0 1074266112\n",
      "          0 1074790400          0 1075052544          0 1075314688]\n"
     ]
    }
   ],
   "source": [
    "arr_1d = np.array([1,2,3,4,5,6], dtype='float')\n",
    "print(arr_1d)\n",
    "\n",
    "# 错误！\n",
    "arr_1d.dtype = 'int32'\n",
    "print(arr_1d)"
   ]
  },
  {
   "attachments": {},
   "cell_type": "markdown",
   "metadata": {},
   "source": [
    "## 4 其他创建数组的方式\n",
    "\n",
    "### 4.1 np.ones() 和 np.zeros()\n",
    "\n",
    "指定数组的形状，可选数据类型，生成一个全0或者1的数组："
   ]
  },
  {
   "cell_type": "code",
   "execution_count": 36,
   "metadata": {},
   "outputs": [
    {
     "data": {
      "text/plain": [
       "array([[1., 1., 1.],\n",
       "       [1., 1., 1.]])"
      ]
     },
     "execution_count": 36,
     "metadata": {},
     "output_type": "execute_result"
    }
   ],
   "source": [
    "np.ones(shape=(2,3))"
   ]
  },
  {
   "cell_type": "code",
   "execution_count": 37,
   "metadata": {},
   "outputs": [
    {
     "data": {
      "text/plain": [
       "array([[1, 1, 1],\n",
       "       [1, 1, 1]], dtype=int32)"
      ]
     },
     "execution_count": 37,
     "metadata": {},
     "output_type": "execute_result"
    }
   ],
   "source": [
    "np.ones(shape=(2,3), dtype='int32')"
   ]
  },
  {
   "cell_type": "code",
   "execution_count": 35,
   "metadata": {},
   "outputs": [
    {
     "data": {
      "text/plain": [
       "array([[0.5, 0.5, 0.5],\n",
       "       [0.5, 0.5, 0.5]])"
      ]
     },
     "execution_count": 35,
     "metadata": {},
     "output_type": "execute_result"
    }
   ],
   "source": [
    "# 生成一个所有元素为 0.5 的数组\n",
    "np.ones(shape=(2,3)) * 0.5"
   ]
  },
  {
   "attachments": {},
   "cell_type": "markdown",
   "metadata": {},
   "source": [
    "### 4.2 np.arange()\n",
    "\n",
    "np.arange([start,]stop,[step,],dtype=None) 用来创建一个在 [start, stop] **左闭右开**的区间（不包含stop），元素跨度为 step 的数组。可选的 start 默认值是 0，step默认值是 1"
   ]
  },
  {
   "cell_type": "code",
   "execution_count": 38,
   "metadata": {},
   "outputs": [
    {
     "data": {
      "text/plain": [
       "array([0, 1, 2, 3, 4])"
      ]
     },
     "execution_count": 38,
     "metadata": {},
     "output_type": "execute_result"
    }
   ],
   "source": [
    "# 创建 0 到 4 的数组\n",
    "np.arange(5)"
   ]
  },
  {
   "cell_type": "code",
   "execution_count": 39,
   "metadata": {},
   "outputs": [
    {
     "data": {
      "text/plain": [
       "array([ 3,  6,  9, 12, 15, 18])"
      ]
     },
     "execution_count": 39,
     "metadata": {},
     "output_type": "execute_result"
    }
   ],
   "source": [
    "# 创建 3 到 20 之间的数组，步进为 3\n",
    "np.arange(3,20,3)"
   ]
  },
  {
   "attachments": {},
   "cell_type": "markdown",
   "metadata": {},
   "source": [
    "### 4.3 np.linspace()\n",
    "\n",
    "np.linspace(start, stop, num=50, endpoint=True, retstep=False, dtype=None)\n",
    "\n",
    "创建一个 start 到 stop，元素个数为 num 的数组。endpoint 为 true 时，最后一个元素为 stop。retstep 为 true 时，返回数组和公差的元组"
   ]
  },
  {
   "cell_type": "code",
   "execution_count": 42,
   "metadata": {},
   "outputs": [
    {
     "data": {
      "text/plain": [
       "array([ 0. ,  2.5,  5. ,  7.5, 10. ])"
      ]
     },
     "execution_count": 42,
     "metadata": {},
     "output_type": "execute_result"
    }
   ],
   "source": [
    "np.linspace(0,10,5, endpoint=True)"
   ]
  },
  {
   "cell_type": "code",
   "execution_count": 43,
   "metadata": {},
   "outputs": [
    {
     "data": {
      "text/plain": [
       "(array([0., 2., 4., 6., 8.]), 2.0)"
      ]
     },
     "execution_count": 43,
     "metadata": {},
     "output_type": "execute_result"
    }
   ],
   "source": [
    "np.linspace(0,10,5,endpoint=False,retstep=True)"
   ]
  },
  {
   "cell_type": "code",
   "execution_count": 45,
   "metadata": {},
   "outputs": [
    {
     "data": {
      "image/png": "[encoded data removed]",
      "text/plain": [
       "<Figure size 640x480 with 1 Axes>"
      ]
     },
     "metadata": {},
     "output_type": "display_data"
    }
   ],
   "source": [
    "import matplotlib.pyplot as plt\n",
    "\n",
    "X = np.linspace(-50, 51, 100)\n",
    "Y = X**2\n",
    "\n",
    "plt.plot(X, Y, color='blue')\n",
    "plt.show()"
   ]
  },
  {
   "attachments": {},
   "cell_type": "markdown",
   "metadata": {},
   "source": [
    "## 5 数组的轴 axis\n",
    "\n",
    "在 NumPy 中，数组的轴是指数组的维度。例如，一个一维数组有一个轴，一个二维数组有两个轴，一个三维数组有三个轴，以此类推。\n",
    "\n",
    "每个轴都有一个长度，用于表示该轴上的元素数目。在二维数组中，第一个轴表示行数，第二个轴表示列数。在三维数组中，第一个轴表示层数，第二个轴表示行数，第三个轴表示列数。在更高维度的数组中，每个轴的含义也可以类似地定义。\n",
    "\n",
    "在 NumPy 中，可以使用轴来操作数组的不同维度。例如，可以使用 `np.sum()` 函数来计算数组的总和，可以指定 `axis` 参数来沿着指定的轴对数组进行求和。这样可以方便地对数组进行各种不同的运算。"
   ]
  },
  {
   "cell_type": "code",
   "execution_count": 57,
   "metadata": {},
   "outputs": [
    {
     "data": {
      "text/plain": [
       "array([[8, 6, 5],\n",
       "       [9, 4, 4],\n",
       "       [7, 0, 2],\n",
       "       [7, 7, 1]])"
      ]
     },
     "execution_count": 57,
     "metadata": {},
     "output_type": "execute_result"
    }
   ],
   "source": [
    "arr_2d = np.random.randint(10, size=(4,3))\n",
    "arr_2d"
   ]
  },
  {
   "cell_type": "code",
   "execution_count": 58,
   "metadata": {},
   "outputs": [
    {
     "data": {
      "text/plain": [
       "array([31, 17, 12])"
      ]
     },
     "execution_count": 58,
     "metadata": {},
     "output_type": "execute_result"
    }
   ],
   "source": [
    "# 二维数组的 0 轴为列\n",
    "np.sum(arr_2d, axis=0)"
   ]
  },
  {
   "cell_type": "code",
   "execution_count": 59,
   "metadata": {},
   "outputs": [
    {
     "data": {
      "text/plain": [
       "array([19, 17,  9, 15])"
      ]
     },
     "execution_count": 59,
     "metadata": {},
     "output_type": "execute_result"
    }
   ],
   "source": [
    "# 二维数组的 1 轴为行\n",
    "np.sum(arr_2d, axis=1)"
   ]
  },
  {
   "attachments": {},
   "cell_type": "markdown",
   "metadata": {},
   "source": [
    "从上面的结果可以得知，在一个形状为 (a, b) 的二维数字，沿 0 轴进行聚合，得到的结果形状为 (b, ); 沿 1 轴聚合，结果形状为 (a, )\n",
    "\n",
    "对于形状为 (a, b, c) 的三维数组，沿 0 轴聚合后，形状为 (b, c); 沿 1 轴形状为 (a, c); 沿 2 轴为 (b, c); 沿 3 轴为 (a, b)"
   ]
  },
  {
   "cell_type": "code",
   "execution_count": 60,
   "metadata": {},
   "outputs": [
    {
     "data": {
      "text/plain": [
       "array([[[ 0,  1,  2,  3],\n",
       "        [ 4,  5,  6,  7],\n",
       "        [ 8,  9, 10, 11]],\n",
       "\n",
       "       [[12, 13, 14, 15],\n",
       "        [16, 17, 18, 19],\n",
       "        [20, 21, 22, 23]]])"
      ]
     },
     "execution_count": 60,
     "metadata": {},
     "output_type": "execute_result"
    }
   ],
   "source": [
    "# 形状为 (2,3,4)\n",
    "arr_3d = np.arange(24).reshape(2,3,4)\n",
    "arr_3d"
   ]
  },
  {
   "cell_type": "code",
   "execution_count": 62,
   "metadata": {},
   "outputs": [
    {
     "data": {
      "text/plain": [
       "array([[12, 13, 14, 15],\n",
       "       [16, 17, 18, 19],\n",
       "       [20, 21, 22, 23]])"
      ]
     },
     "execution_count": 62,
     "metadata": {},
     "output_type": "execute_result"
    }
   ],
   "source": [
    "# 结果形状为 (3,4)\n",
    "np.max(arr_3d, axis=0)"
   ]
  },
  {
   "cell_type": "code",
   "execution_count": 63,
   "metadata": {},
   "outputs": [
    {
     "data": {
      "text/plain": [
       "array([[ 8,  9, 10, 11],\n",
       "       [20, 21, 22, 23]])"
      ]
     },
     "execution_count": 63,
     "metadata": {},
     "output_type": "execute_result"
    }
   ],
   "source": [
    "# 结果形状为 (2, 4)\n",
    "np.max(arr_3d, axis=1)"
   ]
  },
  {
   "cell_type": "code",
   "execution_count": 64,
   "metadata": {},
   "outputs": [
    {
     "data": {
      "text/plain": [
       "array([[ 3,  7, 11],\n",
       "       [15, 19, 23]])"
      ]
     },
     "execution_count": 64,
     "metadata": {},
     "output_type": "execute_result"
    }
   ],
   "source": [
    "# 结果形状为 (2, 3)\n",
    "np.max(arr_3d, axis=2)"
   ]
  }
 ],
 "metadata": {
  "kernelspec": {
   "display_name": ".venv",
   "language": "python",
   "name": "python3"
  },
  "language_info": {
   "codemirror_mode": {
    "name": "ipython",
    "version": 3
   },
   "file_extension": ".py",
   "mimetype": "text/x-python",
   "name": "python",
   "nbconvert_exporter": "python",
   "pygments_lexer": "ipython3",
   "version": "3.10.6"
  },
  "orig_nbformat": 4
 },
 "nbformat": 4,
 "nbformat_minor": 2
}
