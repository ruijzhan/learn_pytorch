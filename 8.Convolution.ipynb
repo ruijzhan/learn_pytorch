{
 "cells": [
  {
   "attachments": {},
   "cell_type": "markdown",
   "metadata": {},
   "source": [
    "# 8 PyTorch 中的卷积运算\n",
    "\n",
    "## 8.1 标准卷积\n",
    "\n",
    "使用 PyTorch 进行标准卷积运算主要涉及到以下三种类：`nn.Conv1d`、`nn.Conv2d` 和 `nn.Conv3d`。这些类分别用于处理不同类型的数据，如一维序列、二维图像和三维视频数据。\n",
    "\n",
    "以二维卷积为例，`nn.Conv2d` 类用于二维卷积运算，主要应用于处理图像数据，如在卷积神经网络（CNN）中对图像进行特征提取。\n",
    "\n",
    "`nn.Conv2d` 的初始化参数如下：\n",
    "\n",
    "- `in_channels`: 输入数据的通道数。\n",
    "- `out_channels`: 输出数据的通道数，也是卷积核的数量。\n",
    "- `kernel_size`: 卷积核的大小，可以是一个整数或者一个二元组 (height, width)。\n",
    "- `stride`: 卷积核在输入数据上的步长，默认为1，可以是一个整数或者一个二元组 (height, width)。\n",
    "- `padding`: 输入数据两侧填充的宽度，默认为0，可以是一个整数或者一个二元组 (height, width)。\n",
    "- `dilation`: 卷积核元素之间的间距，默认为1，可以是一个整数或者一个二元组 (height, width)。\n",
    "- `groups`: 控制输入和输出之间的连接方式，默认为1，表示输入通道和输出通道是一一对应的。\n",
    "- `bias`: 是否添加偏置项，默认为True。\n",
    "- `padding_mode`: 填充模式，默认为'zeros'。"
   ]
  },
  {
   "cell_type": "code",
   "execution_count": 3,
   "metadata": {},
   "outputs": [
    {
     "name": "stdout",
     "output_type": "stream",
     "text": [
      "Input shape:  torch.Size([4, 3, 32, 32])\n",
      "Output shape:  torch.Size([4, 16, 32, 32])\n"
     ]
    }
   ],
   "source": [
    "import torch\n",
    "import torch.nn as nn\n",
    "\n",
    "conv2d = nn.Conv2d(in_channels=3, out_channels=16, kernel_size=(3, 3), stride=(1, 1), padding=(1, 1), dilation=(1, 1), groups=1, bias=True, padding_mode='zeros')\n",
    "\n",
    "# 示例输入数据：batch_size = 4, height = 32, width = 32\n",
    "input_data = torch.randn(4, 3, 32, 32)\n",
    "\n",
    "# 进行卷积运算\n",
    "output_data = conv2d(input_data)\n",
    "\n",
    "print(\"Input shape: \", input_data.shape)  # 输出：Input shape:  torch.Size([4, 3, 32,32])\n",
    "print(\"Output shape: \", output_data.shape)  # 输出：Output shape:  torch.Size([4, 16, 32, 32])\n",
    "\n"
   ]
  },
  {
   "attachments": {},
   "cell_type": "markdown",
   "metadata": {},
   "source": [
    "\n",
    "\n",
    "## 8.2 转置卷积\n",
    "\n",
    "## 8.3 分组卷积\n",
    "\n",
    "## 8.4 深度可分离卷积"
   ]
  }
 ],
 "metadata": {
  "kernelspec": {
   "display_name": ".venv",
   "language": "python",
   "name": "python3"
  },
  "language_info": {
   "codemirror_mode": {
    "name": "ipython",
    "version": 3
   },
   "file_extension": ".py",
   "mimetype": "text/x-python",
   "name": "python",
   "nbconvert_exporter": "python",
   "pygments_lexer": "ipython3",
   "version": "3.10.6"
  },
  "orig_nbformat": 4
 },
 "nbformat": 4,
 "nbformat_minor": 2
}
