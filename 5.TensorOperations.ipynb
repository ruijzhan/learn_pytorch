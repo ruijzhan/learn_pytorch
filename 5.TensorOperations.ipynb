{
 "cells": [
  {
   "attachments": {},
   "cell_type": "markdown",
   "metadata": {},
   "source": [
    "# 5 更多的 Tensor 操作\n",
    "\n",
    "## 1 Tensor 的拼接\n",
    "\n",
    "在 PyTorch 中，我们可以根据不同的需求选择 `torch.cat()`、`torch.stack()`、`torch.hstack()` 或 `torch.vstack()` 方法进行 Tensor 拼接。在使用这些方法时，需要确保参与拼接的 Tensor 具有相同的形状（除拼接维度外）并且数据类型相同。\n",
    "\n",
    "### 1.1 torch.cat(): 沿着已存在的维度进行拼接\n",
    "\n",
    "当需要将多个具有相同形状的 Tensor 沿着某个维度拼接时，可以使用 `torch.cat()`。参与拼接的 Tensor 必须具有相同的形状（除拼接维度外），并且数据类型相同。\n",
    "\n",
    "```python\n",
    "torch.cat(tensors, dim=0, out=None)\n",
    "```"
   ]
  },
  {
   "cell_type": "code",
   "execution_count": 4,
   "metadata": {},
   "outputs": [
    {
     "name": "stdout",
     "output_type": "stream",
     "text": [
      "tensor([[1., 1., 1.],\n",
      "        [1., 1., 1.],\n",
      "        [1., 1., 1.],\n",
      "        [2., 2., 2.],\n",
      "        [2., 2., 2.],\n",
      "        [2., 2., 2.]])\n",
      "tensor([[1., 1., 1., 2., 2., 2.],\n",
      "        [1., 1., 1., 2., 2., 2.],\n",
      "        [1., 1., 1., 2., 2., 2.]])\n"
     ]
    }
   ],
   "source": [
    "import torch\n",
    "\n",
    "tensor1 = torch.ones(3, 3)\n",
    "tensor2 = 2*torch.ones(3, 3)\n",
    "\n",
    "# 竖向 0轴 上的拼接\n",
    "result0 = torch.cat((tensor1, tensor2), dim=0)\n",
    "print(result0)\n",
    "\n",
    "# 竖向 1轴 上的拼接\n",
    "result1 = torch.cat((tensor1, tensor2), dim=1)\n",
    "print(result1)"
   ]
  },
  {
   "attachments": {},
   "cell_type": "markdown",
   "metadata": {},
   "source": [
    "### 1.2 torch.stack(): 在新的维度上进行拼接\n",
    "\n",
    "当需要将多个具有**相同形状**的 Tensor 在新的维度上拼接时，可以使用 `torch.stack()`。参与拼接的 Tensor 必须具有相同的形状，并且数据类型相同。stack() 拼接会增加维度\n",
    "\n",
    "```python\n",
    "torch.stack(tensors, dim=0, out=None)\n",
    "```"
   ]
  },
  {
   "cell_type": "code",
   "execution_count": 7,
   "metadata": {},
   "outputs": [
    {
     "name": "stdout",
     "output_type": "stream",
     "text": [
      "tensor([[0, 1, 2, 3],\n",
      "        [5, 6, 7, 8]])\n",
      "tensor([[0, 5],\n",
      "        [1, 6],\n",
      "        [2, 7],\n",
      "        [3, 8]])\n"
     ]
    }
   ],
   "source": [
    "tensor1 = torch.arange(0,4)\n",
    "tensor2 = torch.arange(5,9)\n",
    "\n",
    "result0 = torch.stack((tensor1, tensor2), dim=0)\n",
    "print(result0)\n",
    "\n",
    "result1 = torch.stack((tensor1,tensor2), dim=1)\n",
    "print(result1)"
   ]
  },
  {
   "attachments": {},
   "cell_type": "markdown",
   "metadata": {},
   "source": [
    "### 1.3 torch.hstack() 和 torch.vstack(): 水平方向和垂直方向的拼接\n",
    "\n",
    "当需要在水平方向或垂直方向拼接多个具有相同形状的 Tensor 时，可以使用 `torch.hstack()` 或 `torch.vstack()`。这两种拼接不会增加张量的维度。\n",
    "\n",
    "```python\n",
    "torch.hstack(tensors, *, out=None)\n",
    "torch.vstack(tensors, *, out=None)\n",
    "```"
   ]
  },
  {
   "cell_type": "code",
   "execution_count": 12,
   "metadata": {},
   "outputs": [
    {
     "name": "stdout",
     "output_type": "stream",
     "text": [
      "torch.Size([2, 2])\n",
      "tensor([[1., 1., 2., 2.],\n",
      "        [1., 1., 2., 2.]])\n",
      "torch.Size([2, 4])\n",
      "tensor([[1., 1.],\n",
      "        [1., 1.],\n",
      "        [2., 2.],\n",
      "        [2., 2.]])\n"
     ]
    }
   ],
   "source": [
    "tensor1 = torch.ones(2, 2)\n",
    "tensor2 = 2*torch.ones(2, 2)\n",
    "\n",
    "result_h = torch.hstack((tensor1, tensor2))\n",
    "print(result_h)\n",
    "\n",
    "result_v = torch.vstack((tensor1, tensor2))\n",
    "print(result_v)"
   ]
  },
  {
   "attachments": {},
   "cell_type": "markdown",
   "metadata": {},
   "source": [
    "## 2 Tensor 的切分\n",
    "\n",
    "在深度学习的场景中，为了达到提高计算和空间效率，实现分布式计算等目的，需要将 Tensor 进行切分。切分后的小Tensor更容易计算和处理,并且具有更高的灵活性。\n",
    "\n",
    "### 2.1 torch.chunk() \n",
    "\n",
    "将一个 Tensor 沿着指定维度（轴）切分成**多个相同大小**的子 Tensor\n",
    "\n",
    "```python\n",
    "torch.chunk(input, chunks, dim=0)\n",
    "```\n",
    "\n",
    "chunks 参数表示希望得到的子 Tensor 数量。请确保输入 Tensor 可以平均切分。否则，最后一个子 Tensor 的大小可能小于其他子 Tensor。子 Tensor的大小是 input 除以 chunks 的结果向上取整\n"
   ]
  },
  {
   "cell_type": "code",
   "execution_count": 15,
   "metadata": {},
   "outputs": [
    {
     "name": "stdout",
     "output_type": "stream",
     "text": [
      "tensor([[1, 2, 3],\n",
      "        [4, 5, 6]])\n",
      "tensor([[ 7,  8,  9],\n",
      "        [10, 11, 12]])\n",
      "tensor([[ 1,  2],\n",
      "        [ 4,  5],\n",
      "        [ 7,  8],\n",
      "        [10, 11]])\n",
      "tensor([[ 3],\n",
      "        [ 6],\n",
      "        [ 9],\n",
      "        [12]])\n"
     ]
    }
   ],
   "source": [
    "x = torch.tensor([[1, 2, 3], [4, 5, 6], [7, 8, 9], [10, 11, 12]])\n",
    "\n",
    "chunks0 = torch.chunk(x, 2, 0)\n",
    "for chunk in chunks0:\n",
    "    print(chunk)\n",
    "\n",
    "chunks1 = torch.chunk(x, 2, 1)\n",
    "for chunk in chunks1:\n",
    "    print(chunk)\n",
    "\n"
   ]
  },
  {
   "attachments": {},
   "cell_type": "markdown",
   "metadata": {},
   "source": [
    "### 2.2 torch.split()\n",
    "\n",
    "将一个 Tensor 沿着指定维度（轴）切分成**多个指定大小**的子 Tensor\n",
    "\n",
    "```python\n",
    "torch.split(input, split_size_or_sections, dim=0)\n",
    "```\n",
    "\n",
    "split_size_or_sections 参数可以是一个整数，表示每个子 Tensor 的大小，或者一个列表，表示每个子 Tensor 的大小不同。保输入 Tensor 可以根据所需的大小进行切分, 否则将引发错误。\n"
   ]
  },
  {
   "cell_type": "code",
   "execution_count": 24,
   "metadata": {},
   "outputs": [
    {
     "name": "stdout",
     "output_type": "stream",
     "text": [
      "tensor([[1, 2, 3],\n",
      "        [4, 5, 6]])\n",
      "tensor([[ 7,  8,  9],\n",
      "        [10, 11, 12]])\n",
      "=========================\n",
      "tensor([[1, 2, 3]])\n",
      "tensor([[4, 5, 6],\n",
      "        [7, 8, 9]])\n",
      "tensor([[10, 11, 12]])\n"
     ]
    }
   ],
   "source": [
    "x = torch.tensor([[1, 2, 3], [4, 5, 6], [7, 8, 9], [10, 11, 12]])\n",
    "split_sizes = torch.split(x, 2, 0)\n",
    "for split in split_sizes:\n",
    "    print(split)\n",
    "\n",
    "print(\"=\"*25)\n",
    "split_sizes = torch.split(x, [1,2,1], 0)\n",
    "for split in split_sizes:\n",
    "    print(split)"
   ]
  },
  {
   "attachments": {},
   "cell_type": "markdown",
   "metadata": {},
   "source": [
    "### 2.3 torch.unbind() \n",
    "\n",
    "将输入 Tensor 沿指定维度（轴）拆分为元组，元组中每个元素是一个子 Tensor\n",
    "\n",
    "```python\n",
    "torch.unbind(input, dim=0)\n",
    "```\n",
    "\n",
    "dim 参数表示希望沿哪个维度（轴）拆分 Tensor。请确保输入 Tensor 的该维度大小大于 0。\n"
   ]
  },
  {
   "cell_type": "code",
   "execution_count": 27,
   "metadata": {},
   "outputs": [
    {
     "name": "stdout",
     "output_type": "stream",
     "text": [
      "tensor([1, 2, 3])\n",
      "tensor([4, 5, 6])\n",
      "tensor([7, 8, 9])\n",
      "tensor([10, 11, 12])\n"
     ]
    }
   ],
   "source": [
    "x = torch.tensor([[1, 2, 3], [4, 5, 6], [7, 8, 9], [10, 11, 12]])\n",
    "unbound_tensors = torch.unbind(x, 0)\n",
    "\n",
    "for tensor in unbound_tensors:\n",
    "    print(tensor)"
   ]
  },
  {
   "attachments": {},
   "cell_type": "markdown",
   "metadata": {},
   "source": [
    "### 2.4 torch.narrow() \n",
    "\n",
    "从一个 Tensor 沿着指定维度（轴）截取一部分\n",
    "\n",
    "```python\n",
    "torch.narrow(input, dim, start, length)\n",
    "```\n",
    "start 参数表示截取的起始位置，length 参数表示截取的长度。需确保起始位置和长度在输入 Tensor 的范围内。"
   ]
  },
  {
   "cell_type": "code",
   "execution_count": 29,
   "metadata": {},
   "outputs": [
    {
     "name": "stdout",
     "output_type": "stream",
     "text": [
      "tensor([[4, 5, 6],\n",
      "        [7, 8, 9]])\n"
     ]
    }
   ],
   "source": [
    "x = torch.tensor([[1, 2, 3], [4, 5, 6], [7, 8, 9], [10, 11, 12]])\n",
    "# 沿x的0轴，将，从第1个元素截取长度为2的 Tensor\n",
    "narrowed = torch.narrow(x, 0, 1, 2)\n",
    "\n",
    "print(narrowed)"
   ]
  },
  {
   "attachments": {},
   "cell_type": "markdown",
   "metadata": {},
   "source": [
    "\n",
    "\n",
    "## 3 Tensor 的索引\n",
    "\n",
    "### 3.1 基本索引\n",
    "\n",
    "当需要访问或修改 Tensor 中的特定元素时，可以使用基本索引。需确保索引在输入 Tensor 的范围内。\n"
   ]
  },
  {
   "cell_type": "code",
   "execution_count": 30,
   "metadata": {},
   "outputs": [
    {
     "name": "stdout",
     "output_type": "stream",
     "text": [
      "tensor(6)\n",
      "tensor([[ 1, 42,  3],\n",
      "        [ 4,  5,  6],\n",
      "        [ 7,  8,  9]])\n"
     ]
    }
   ],
   "source": [
    "x = torch.tensor([[1, 2, 3], [4, 5, 6], [7, 8, 9]])\n",
    "element = x[1, 2]  # 访问第 1 行，第 2 列的元素\n",
    "print(element)\n",
    "\n",
    "x[0, 1] = 42  # 修改第 0 行，第 1 列的元素\n",
    "print(x)"
   ]
  },
  {
   "attachments": {},
   "cell_type": "markdown",
   "metadata": {},
   "source": [
    "### 3.2 切片索引\n",
    "\n",
    "当需要访问或修改 Tensor 中的一部分元素时，可以使用切片索引。\n"
   ]
  },
  {
   "cell_type": "code",
   "execution_count": 31,
   "metadata": {},
   "outputs": [
    {
     "name": "stdout",
     "output_type": "stream",
     "text": [
      "tensor([[2, 3],\n",
      "        [5, 6],\n",
      "        [8, 9]])\n",
      "tensor([[ 1,  2,  3],\n",
      "        [ 4,  5,  6],\n",
      "        [ 7, 42, 43]])\n"
     ]
    }
   ],
   "source": [
    "x = torch.tensor([[1, 2, 3], [4, 5, 6], [7, 8, 9]])\n",
    "sub_x = x[:, 1:]  # 访问所有行，第 1 列及以后的元素\n",
    "print(sub_x)\n",
    "\n",
    "x[2, 1:] = torch.tensor([42, 43])  # 修改第 2 行，第 1 列及以后的元素\n",
    "print(x)"
   ]
  },
  {
   "attachments": {},
   "cell_type": "markdown",
   "metadata": {},
   "source": [
    "### 3.3 index_select\n",
    "\n",
    "当你需要沿指定维度（轴）从 Tensor 中选择多个子 Tensor 时，可以使用 torch.index_select() 函数。\n",
    "\n",
    "```python\n",
    "torch.index_select(input, dim, index)\n",
    "```\n",
    "\n",
    "- input：输入 Tensor。\n",
    "- dim：指定维度（轴），沿此维度选择子 Tensor。\n",
    "- index：一个一维张量，包含要选择的索引。\n"
   ]
  },
  {
   "cell_type": "code",
   "execution_count": 33,
   "metadata": {},
   "outputs": [
    {
     "name": "stdout",
     "output_type": "stream",
     "text": [
      "tensor([[1, 2, 3],\n",
      "        [7, 8, 9]])\n",
      "tensor([[1, 3],\n",
      "        [4, 6],\n",
      "        [7, 9]])\n"
     ]
    }
   ],
   "source": [
    "x = torch.tensor([[1, 2, 3], [4, 5, 6], [7, 8, 9]])\n",
    "selected_rows = torch.index_select(x, 0, torch.tensor([0, 2]))  # 选择第 0 行和第 2 行\n",
    "print(selected_rows)\n",
    "\n",
    "selected_cols = torch.index_select(x, 1, torch.tensor([0, 2]))  # 选择第 0 行和第 2 列\n",
    "print(selected_cols)\n"
   ]
  },
  {
   "attachments": {},
   "cell_type": "markdown",
   "metadata": {},
   "source": [
    "### 3.4 masked_select\n",
    "\n",
    "当需要根据一个布尔掩码 Tensor 从输入 Tensor 中选择元素时，可以使用 torch.masked_select\n",
    "\n",
    "```python\n",
    "torch.masked_select(input, mask)\n",
    "```\n",
    "\n",
    "- input：输入 Tensor\n",
    "- mask：与输入 Tensor 形状相同的布尔掩码 Tensor, 必须与输入 Tensor 的形状相同"
   ]
  },
  {
   "cell_type": "code",
   "execution_count": 35,
   "metadata": {},
   "outputs": [
    {
     "name": "stdout",
     "output_type": "stream",
     "text": [
      "tensor([[False, False, False],\n",
      "        [False, False,  True],\n",
      "        [ True,  True,  True]])\n",
      "tensor([6, 7, 8, 9])\n"
     ]
    }
   ],
   "source": [
    "x = torch.tensor([[1, 2, 3], [4, 5, 6], [7, 8, 9]])\n",
    "mask = x > 5  # 创建一个布尔掩码 Tensor\n",
    "print(mask)\n",
    "selected_elements = torch.masked_select(x, mask)  # 选择大于 5 的元素\n",
    "print(selected_elements)"
   ]
  }
 ],
 "metadata": {
  "kernelspec": {
   "display_name": ".venv",
   "language": "python",
   "name": "python3"
  },
  "language_info": {
   "codemirror_mode": {
    "name": "ipython",
    "version": 3
   },
   "file_extension": ".py",
   "mimetype": "text/x-python",
   "name": "python",
   "nbconvert_exporter": "python",
   "pygments_lexer": "ipython3",
   "version": "3.10.6"
  },
  "orig_nbformat": 4
 },
 "nbformat": 4,
 "nbformat_minor": 2
}
