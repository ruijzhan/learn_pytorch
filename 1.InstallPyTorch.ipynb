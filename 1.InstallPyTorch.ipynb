{
 "cells": [
  {
   "attachments": {},
   "cell_type": "markdown",
   "metadata": {},
   "source": [
    "## 1 配置 virtual env\n",
    "\n",
    "PyTorch 运行在 Python 环境中。在Python中，venv是一个用于创建虚拟环境的模块。虚拟环境是一个独立的Python环境，可以在其中安装和管理软件包，而不会影响系统中的其他Python应用程序。使用venv可以轻松地创建和管理虚拟环境，以便在不同的项目中使用不同的Python版本和软件包。这对于开发人员来说非常有用，因为它可以避免不同项目之间的冲突，并确保每个项目都有其自己的独立环境。\n",
    "\n",
    "```shell\n",
    "mkdir learn_pytorch\n",
    "cd learn_pytorch\n",
    "# 创建 venv\n",
    "py -m venv .venv \n",
    "# 激活 venv\n",
    "source .venv/bin/activate\n",
    "```\n",
    "\n",
    "## 2 安装 PyTorch\n",
    "\n",
    "在激活了 venv 后，使用 pip 安装 PyTorch\n",
    "\n",
    "```shell\n",
    "pip install torch torchvision torchaudio matplotlib\n",
    "```\n",
    "\n",
    "命令完成后，使用下面的代码检验是否安装成功。"
   ]
  },
  {
   "cell_type": "code",
   "execution_count": 3,
   "metadata": {},
   "outputs": [
    {
     "name": "stdout",
     "output_type": "stream",
     "text": [
      "2.0.1+cu117\n"
     ]
    },
    {
     "data": {
      "text/plain": [
       "False"
      ]
     },
     "execution_count": 3,
     "metadata": {},
     "output_type": "execute_result"
    }
   ],
   "source": [
    "import torch\n",
    "\n",
    "# 所安装的 PyTorch 版本\n",
    "print(torch.__version__)\n",
    "# 当前环境是否支持 CUDA\n",
    "torch.cuda.is_available()"
   ]
  },
  {
   "attachments": {},
   "cell_type": "markdown",
   "metadata": {},
   "source": [
    "在自己的 IDE 中，还可以安装各种扩展来方便学习，下面是在 VS Code 中几个推荐的扩展：\n",
    "\n",
    "- [Python](https://marketplace.visualstudio.com/items?itemName=ms-python.python) IDE 的 Python 扩展\n",
    "- [Jupyter](https://marketplace.visualstudio.com/items?itemName=ms-toolsai.jupyter) 本文档就是用 Jupyter 写的\n",
    "- [Codeium](https://marketplace.visualstudio.com/items?itemName=Codeium.codeium) 代码补全工具"
   ]
  }
 ],
 "metadata": {
  "kernelspec": {
   "display_name": ".venv",
   "language": "python",
   "name": "python3"
  },
  "language_info": {
   "codemirror_mode": {
    "name": "ipython",
    "version": 3
   },
   "file_extension": ".py",
   "mimetype": "text/x-python",
   "name": "python",
   "nbconvert_exporter": "python",
   "pygments_lexer": "ipython3",
   "version": "3.10.6"
  },
  "orig_nbformat": 4
 },
 "nbformat": 4,
 "nbformat_minor": 2
}
